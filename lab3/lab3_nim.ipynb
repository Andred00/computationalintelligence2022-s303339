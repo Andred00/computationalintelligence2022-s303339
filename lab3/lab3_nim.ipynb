{
 "cells": [
  {
   "cell_type": "markdown",
   "metadata": {
    "pycharm": {
     "name": "#%% md\n"
    }
   },
   "source": [
    "Copyright **`(c)`** 2022 Giovanni Squillero `<squillero@polito.it>`  \n",
    "[`https://github.com/squillero/computational-intelligence`](https://github.com/squillero/computational-intelligence)  \n",
    "Free for personal or classroom use; see [`LICENSE.md`](https://github.com/squillero/computational-intelligence/blob/master/LICENSE.md) for details.  \n"
   ]
  },
  {
   "cell_type": "markdown",
   "metadata": {
    "pycharm": {
     "name": "#%%\n"
    }
   },
   "source": [
    "# Lab 3: Policy Search\n",
    "\n",
    "## Task\n",
    "\n",
    "Write agents able to play [*Nim*](https://en.wikipedia.org/wiki/Nim), with an arbitrary number of rows and an upper bound $k$ on the number of objects that can be removed in a turn (a.k.a., *subtraction game*).\n",
    "\n",
    "The player **taking the last object wins**.\n",
    "\n",
    "* Task3.1: An agent using fixed rules based on *nim-sum* (i.e., an *expert system*)\n",
    "* Task3.2: An agent using evolved rules\n",
    "* Task3.3: An agent using minmax\n",
    "* Task3.4: An agent using reinforcement learning\n",
    "\n",
    "## Instructions\n",
    "\n",
    "* Create the directory `lab3` inside the course repo \n",
    "* Put a `README.md` and your solution (all the files, code and auxiliary data if needed)\n",
    "\n",
    "## Notes\n",
    "\n",
    "* Working in group is not only allowed, but recommended (see: [Ubuntu](https://en.wikipedia.org/wiki/Ubuntu_philosophy) and [Cooperative Learning](https://files.eric.ed.gov/fulltext/EJ1096789.pdf)). Collaborations must be explicitly declared in the `README.md`.\n",
    "* [Yanking](https://www.emacswiki.org/emacs/KillingAndYanking) from the internet is allowed, but sources must be explicitly declared in the `README.md`.\n",
    "\n",
    "## Deadlines ([AoE](https://en.wikipedia.org/wiki/Anywhere_on_Earth))\n",
    "\n",
    "* Sunday, December 4th for Task3.1 and Task3.2\n",
    "* Sunday, December 11th for Task3.3 and Task3.4\n",
    "* Sunday, December 18th for all reviews"
   ]
  },
  {
   "cell_type": "code",
   "execution_count": 2,
   "metadata": {},
   "outputs": [],
   "source": [
    "import logging\n",
    "from collections import namedtuple\n",
    "import random\n",
    "from typing import Callable\n",
    "from copy import deepcopy\n",
    "from itertools import accumulate, chain\n",
    "from operator import xor"
   ]
  },
  {
   "cell_type": "markdown",
   "metadata": {},
   "source": [
    "## The *Nim* and *Nimply* classes"
   ]
  },
  {
   "cell_type": "code",
   "execution_count": 3,
   "metadata": {},
   "outputs": [],
   "source": [
    "Nimply = namedtuple(\"Nimply\", \"row, num_objects\")"
   ]
  },
  {
   "cell_type": "code",
   "execution_count": 4,
   "metadata": {},
   "outputs": [],
   "source": [
    "class Nim:\n",
    "    def __init__(self, num_rows: int, k: int = None) -> None:\n",
    "        self._rows = [i * 2 + 1 for i in range(num_rows)]\n",
    "        self._k = k\n",
    "\n",
    "    def __bool__(self):\n",
    "        return sum(self._rows) > 0\n",
    "\n",
    "    def __str__(self):\n",
    "        return \"<\" + \" \".join(str(_) for _ in self._rows) + \">\"\n",
    "\n",
    "    @property\n",
    "    def rows(self) -> tuple:\n",
    "        return tuple(self._rows)\n",
    "\n",
    "    @property\n",
    "    def k(self) -> int:\n",
    "        return self._k\n",
    "\n",
    "    def nimming(self, ply: Nimply) -> None:\n",
    "        row, num_objects = ply\n",
    "        assert self._rows[row] >= num_objects\n",
    "        assert self._k is None or num_objects <= self._k\n",
    "        self._rows[row] -= num_objects"
   ]
  },
  {
   "cell_type": "markdown",
   "metadata": {},
   "source": [
    "## Sample (and silly) startegies "
   ]
  },
  {
   "cell_type": "code",
   "execution_count": 5,
   "metadata": {},
   "outputs": [],
   "source": [
    "def pure_random(state: Nim) -> Nimply:\n",
    "    row = random.choice([r for r, c in enumerate(state.rows) if c > 0])\n",
    "    num_objects = random.randint(1, state.rows[row])\n",
    "    return Nimply(row, num_objects)"
   ]
  },
  {
   "cell_type": "code",
   "execution_count": 6,
   "metadata": {},
   "outputs": [],
   "source": [
    "def gabriele(state: Nim) -> Nimply:\n",
    "    \"\"\"Pick always the maximum possible number of the lowest row\"\"\"\n",
    "    possible_moves = [(r, o) for r, c in enumerate(state.rows) for o in range(1, c + 1)]\n",
    "    return Nimply(*max(possible_moves, key=lambda m: (-m[0], m[1])))"
   ]
  },
  {
   "cell_type": "markdown",
   "metadata": {},
   "source": [
    "# My strategies"
   ]
  },
  {
   "cell_type": "code",
   "execution_count": 7,
   "metadata": {},
   "outputs": [],
   "source": [
    "def active_rows_number(state: Nim) -> int: \n",
    "    return sum(o > 0 for o in state.rows)\n",
    "\n",
    "def pick_max_from_lowest(state: Nim) -> Nimply:\n",
    "    \"\"\"Pick always the maximum possible number of the lowest row\"\"\"\n",
    "    possible_moves = [(r, o) for r, c in enumerate(state.rows) for o in range(1, c + 1)]\n",
    "    return Nimply(*max(possible_moves, key=lambda m: (-m[0], m[1])))\n",
    "\n",
    "def pick_max_from_highest(state: Nim) -> Nimply:\n",
    "    \"\"\"Pick always the maximum possible number of the highest row\"\"\"\n",
    "    possible_moves = [(r, o) for r, c in enumerate(state.rows) for o in range(1, c + 1)]\n",
    "    return Nimply(*max(possible_moves, key=lambda m: (m[0], m[1])))\n",
    "\n",
    "def pick_min_from_lowest(state: Nim) -> Nimply:\n",
    "    \"\"\"Pick always the maximum possible number of the lowest row\"\"\"\n",
    "    possible_moves = [(r, o) for r, c in enumerate(state.rows) for o in range(1, c + 1)]\n",
    "    return Nimply(min(possible_moves, key=lambda m: (m[0], m[1])))\n",
    "\n",
    "def pick_min_from_highest(state: Nim) -> Nimply:\n",
    "    \"\"\"Pick always the maximum possible number of the lowest row\"\"\"\n",
    "    possible_moves = [(r, o) for r, c in enumerate(state.rows) for o in range(1, c + 1)]\n",
    "    return Nimply(*max(possible_moves, key=lambda m: (m[0], -m[1])))\n",
    "\n",
    "def count_rows_and_choose(state: Nim) -> Nimply:\n",
    "    rows = active_rows_number(state)\n",
    "    if rows % 2 == 0:\n",
    "        return pick_min_from_highest(state)\n",
    "    else:\n",
    "        return pick_max_from_highest(state)"
   ]
  },
  {
   "cell_type": "code",
   "execution_count": 8,
   "metadata": {},
   "outputs": [],
   "source": [
    "def nim_sum(state: Nim) -> int:\n",
    "    *_, result = accumulate(state.rows, xor)\n",
    "    return result\n",
    "\n",
    "def active_rows_number(state: Nim) -> int: \n",
    "    return sum(o > 0 for o in state.rows)\n",
    "\n",
    "def cook_status(state: Nim) -> dict:\n",
    "    cooked = dict()\n",
    "    cooked[\"possible_moves\"] = [\n",
    "        (r, o) for r, c in enumerate(state.rows) for o in range(1, c + 1) if state.k is None or o <= state.k\n",
    "    ]\n",
    "    cooked[\"active_rows_number\"] = active_rows_number(state) #sum(o > 0 for o in state.rows)\n",
    "    cooked[\"shortest_row\"] = min((x for x in enumerate(state.rows) if x[1] > 0), key=lambda y: y[1])[0]\n",
    "    cooked[\"longest_row\"] = max((x for x in enumerate(state.rows)), key=lambda y: y[1])[0]\n",
    "    cooked[\"nim_sum\"] = nim_sum(state)\n",
    "\n",
    "    brute_force = list()\n",
    "    for m in cooked[\"possible_moves\"]:\n",
    "        tmp = deepcopy(state)\n",
    "        tmp.nimming(m)\n",
    "        brute_force.append((m, nim_sum(tmp), active_rows_number(tmp)))\n",
    "    cooked[\"brute_force\"] = brute_force\n",
    "\n",
    "    return cooked"
   ]
  },
  {
   "cell_type": "code",
   "execution_count": 9,
   "metadata": {},
   "outputs": [],
   "source": [
    "def optimal_startegy(state: Nim) -> Nimply:\n",
    "    data = cook_status(state)\n",
    "    return next((bf for bf in data[\"brute_force\"] if bf[1] == 0), random.choice(data[\"brute_force\"]))[0]"
   ]
  },
  {
   "cell_type": "code",
   "execution_count": 10,
   "metadata": {},
   "outputs": [],
   "source": [
    "def andrea(state: Nim) -> Nimply:\n",
    "    data = cook_status(state)\n",
    "    moves = (bf for bf in data[\"brute_force\"] if bf[1] == 0)\n",
    "    moves = chain(moves, (bf for bf in data[\"brute_force\"] if bf[2] > 1 or bf[2] % 2 == 0 or bf[1] % 2 == 0))\n",
    "    return next(moves, random.choice(data[\"brute_force\"]))[0]"
   ]
  },
  {
   "cell_type": "code",
   "execution_count": 11,
   "metadata": {},
   "outputs": [],
   "source": [
    "def make_strategy(genome: dict) -> Callable:\n",
    "    def evolvable(state: Nim) -> Nimply:\n",
    "        data = cook_status(state)\n",
    "\n",
    "        if random.random() < genome[\"p\"]:\n",
    "            ply = Nimply(data[\"shortest_row\"], random.randint(1, state.rows[data[\"shortest_row\"]]))\n",
    "        else:\n",
    "            ply = Nimply(data[\"longest_row\"], random.randint(1, state.rows[data[\"longest_row\"]]))\n",
    "\n",
    "        return ply\n",
    "\n",
    "    return evolvable"
   ]
  },
  {
   "cell_type": "code",
   "execution_count": 14,
   "metadata": {},
   "outputs": [],
   "source": [
    "def make_my_strategy(genome: dict) -> Callable:\n",
    "    def evolvable(state: Nim) -> Nimply:\n",
    "\n",
    "        if random.random() < genome[\"p\"]:\n",
    "            ply = count_rows_and_choose(state)\n",
    "        else:\n",
    "            if random.random() < genome[\"alfa\"]:\n",
    "                # pick max\n",
    "                if random.random() < genome[\"beta\"]:\n",
    "                    # pick from highest\n",
    "                    ply = pick_max_from_highest(state)\n",
    "                else:\n",
    "                    ply = pick_max_from_lowest(state)\n",
    "            else:\n",
    "                # pick min\n",
    "                if random.random() < genome[\"beta\"]:\n",
    "                    # pick from highest\n",
    "                    ply = pick_min_from_highest(state)\n",
    "                else:\n",
    "                    ply = pick_min_from_lowest(state)\n",
    "\n",
    "        return ply\n",
    "\n",
    "    return evolvable"
   ]
  },
  {
   "cell_type": "code",
   "execution_count": 38,
   "metadata": {},
   "outputs": [],
   "source": [
    "NUM_MATCHES = 100\n",
    "NIM_SIZE = 10\n",
    "\n",
    "\n",
    "def evaluate(strategy: Callable) -> float:\n",
    "    opponent = (pure_random, strategy)\n",
    "    won = 0\n",
    "\n",
    "    for m in range(NUM_MATCHES):\n",
    "        nim = Nim(NIM_SIZE)\n",
    "        player = 0\n",
    "        while nim:\n",
    "            ply = opponent[player](nim)\n",
    "            nim.nimming(ply)\n",
    "            player = 1 - player\n",
    "        if player == 1:\n",
    "            won += 1\n",
    "    return won / NUM_MATCHES"
   ]
  },
  {
   "cell_type": "code",
   "execution_count": 40,
   "metadata": {},
   "outputs": [
    {
     "name": "stdout",
     "output_type": "stream",
     "text": [
      "0.45 0.39 0.42 0.45 0.4 0.41 0.41 0.39 0.37 0.33 0.34 0.37 0.33 0.38 0.38 0.39 0.28 0.38 0.43 0.38 0.27 0.36 0.27 0.38 0.4 0.43 0.33 0.37 0.39 0.32 0.36 0.39 0.31 0.32 0.23 0.35 0.29 0.24 0.31 0.34 0.29 0.32 0.28 0.33 0.32 0.39 0.29 0.33 0.38 0.37 0.26 0.36 0.29 0.23 0.31 0.18 0.25 0.26 0.2 0.26 0.21 0.32 0.3 0.27 0.3 0.19 0.23 0.19 0.19 0.25 0.26 0.16 0.35 0.25 0.24 0.26 0.14 0.27 0.26 0.25 0.24 0.24 0.17 0.19 0.17 0.22 0.16 0.22 0.16 0.14 0.21 0.13 0.15 0.17 0.14 0.22 0.11 0.16 0.17 0.07 "
     ]
    }
   ],
   "source": [
    "for p in range(0,100,1):\n",
    "    res = evaluate(make_my_strategy({\"p\": p/100}))\n",
    "    print(res, end=\" \")"
   ]
  },
  {
   "cell_type": "markdown",
   "metadata": {},
   "source": [
    "# Try to evolve\n",
    "## Setting parameters"
   ]
  },
  {
   "cell_type": "code",
   "execution_count": 36,
   "metadata": {},
   "outputs": [],
   "source": [
    "Individual = namedtuple(\"Individual\",[\"genome\", \"fitness\"])\n",
    "POPULATION_SIZE = 100\n",
    "NUM_GENERATIONS = 100\n",
    "OFFSPRING_SIZE = 30\n",
    "MUT_RATE = 0.3\n",
    "\n",
    "def compute_fitness(genome):\n",
    "    return evaluate(make_my_strategy(genome))\n",
    "\n",
    "def tournament(population, tournament_size=2): \n",
    "    return max(random.choices(population, k=tournament_size), key=lambda i: i.fitness) \n",
    "\n",
    "def mutation(g):\n",
    "    mutate_what = random.random()\n",
    "    if mutate_what < 0.3:\n",
    "        g_mut = {\"p\": random.random(), \"alfa\": g[\"alfa\"], \"beta\": g[\"beta\"]}\n",
    "    elif mutate_what < 0.6:\n",
    "        g_mut = {\"p\": g[\"p\"], \"alfa\": random.random(), \"beta\": g[\"beta\"]}\n",
    "    else:\n",
    "        g_mut = {\"p\": g[\"p\"], \"alfa\": g[\"alfa\"], \"beta\": random.random()}\n",
    "    return g_mut\n",
    "\n",
    "def crossover(g1, g2):\n",
    "    if random.random() < 0.5:\n",
    "        p = g1[\"p\"]\n",
    "    else: \n",
    "        p = g2[\"p\"]\n",
    "    if random.random() < 0.5:\n",
    "        alfa = g1[\"alfa\"]\n",
    "    else: \n",
    "        alfa = g2[\"alfa\"]\n",
    "    if random.random() < 0.5:\n",
    "        beta = g1[\"beta\"]\n",
    "    else: \n",
    "        beta = g2[\"beta\"]\n",
    "    g_crossover = {\"p\": p, \"alfa\": alfa, \"beta\": beta}\n",
    "    return g_crossover   "
   ]
  },
  {
   "cell_type": "markdown",
   "metadata": {},
   "source": [
    "## Evolution"
   ]
  },
  {
   "cell_type": "code",
   "execution_count": 34,
   "metadata": {},
   "outputs": [],
   "source": [
    "def my_genetic_algorithm(population):\n",
    "    for generation in range(NUM_GENERATIONS):\n",
    "        offspring = list()\n",
    "        for i in range(OFFSPRING_SIZE):\n",
    "            if random.random() < MUT_RATE:\n",
    "                p = tournament(population)\n",
    "                o = mutation(p.genome)\n",
    "            else:\n",
    "                p1 = tournament(population)                 # promising genome 1\n",
    "                p2 = tournament(population)                 # promising genome 2\n",
    "                o = crossover(p1.genome, p2.genome)\n",
    "            f = compute_fitness(o)\n",
    "            offspring.append(Individual(o,f))\n",
    "\n",
    "        population += offspring\n",
    "        population = sorted(population, key = lambda i: i.fitness, reverse=True)[:POPULATION_SIZE]\n",
    "\n",
    "        best_so_far = population[0]\n",
    "        if(generation % 10 == 0):\n",
    "            print(f\"GEN #{generation}\\tGENOME: {best_so_far.genome}\\tFITNESS: {best_so_far.fitness}\")"
   ]
  },
  {
   "cell_type": "code",
   "execution_count": 44,
   "metadata": {},
   "outputs": [
    {
     "name": "stdout",
     "output_type": "stream",
     "text": [
      "GEN #0\tGENOME: {'p': 0.09055326170201838, 'alfa': 0.4957434566600317, 'beta': 0.028920567180381274}\tFITNESS: 0.48\n",
      "GEN #10\tGENOME: {'p': 0.014637619698663173, 'alfa': 0.17798035198900253, 'beta': 0.29660930602204194}\tFITNESS: 0.54\n",
      "GEN #20\tGENOME: {'p': 0.014637619698663173, 'alfa': 0.17798035198900253, 'beta': 0.29660930602204194}\tFITNESS: 0.54\n",
      "GEN #30\tGENOME: {'p': 0.021144876416659963, 'alfa': 0.5186220011253008, 'beta': 0.002495484654111091}\tFITNESS: 0.57\n",
      "GEN #40\tGENOME: {'p': 0.021144876416659963, 'alfa': 0.5186220011253008, 'beta': 0.002495484654111091}\tFITNESS: 0.57\n",
      "GEN #50\tGENOME: {'p': 0.021144876416659963, 'alfa': 0.5186220011253008, 'beta': 0.002495484654111091}\tFITNESS: 0.57\n",
      "GEN #60\tGENOME: {'p': 0.021144876416659963, 'alfa': 0.5186220011253008, 'beta': 0.002495484654111091}\tFITNESS: 0.57\n",
      "GEN #70\tGENOME: {'p': 0.021144876416659963, 'alfa': 0.5186220011253008, 'beta': 0.002495484654111091}\tFITNESS: 0.57\n",
      "GEN #80\tGENOME: {'p': 0.021144876416659963, 'alfa': 0.5186220011253008, 'beta': 0.002495484654111091}\tFITNESS: 0.57\n",
      "GEN #90\tGENOME: {'p': 0.021144876416659963, 'alfa': 0.5186220011253008, 'beta': 0.002495484654111091}\tFITNESS: 0.57\n"
     ]
    }
   ],
   "source": [
    "# a genome is composed by three fields: p, alfa, beta\n",
    "# population composed by randomic values\n",
    "\n",
    "population = list()\n",
    "for _ in range(POPULATION_SIZE):\n",
    "    p = random.random()\n",
    "    alfa = random.random()\n",
    "    beta = random.random()\n",
    "    genome = {\"p\": p, \"alfa\": alfa, \"beta\": beta}\n",
    "    population.append(Individual(genome, compute_fitness(genome)))\n",
    "\n",
    "my_genetic_algorithm(population)"
   ]
  },
  {
   "cell_type": "markdown",
   "metadata": {},
   "source": [
    "## Oversimplified match"
   ]
  },
  {
   "cell_type": "code",
   "execution_count": 42,
   "metadata": {},
   "outputs": [
    {
     "name": "stderr",
     "output_type": "stream",
     "text": [
      "DEBUG:root:status: Initial board  -> <1 3 5 7 9>\n"
     ]
    },
    {
     "ename": "TypeError",
     "evalue": "cannot unpack non-iterable function object",
     "output_type": "error",
     "traceback": [
      "\u001b[1;31m---------------------------------------------------------------------------\u001b[0m",
      "\u001b[1;31mTypeError\u001b[0m                                 Traceback (most recent call last)",
      "Cell \u001b[1;32mIn [42], line 10\u001b[0m\n\u001b[0;32m      8\u001b[0m \u001b[39mwhile\u001b[39;00m nim:\n\u001b[0;32m      9\u001b[0m     ply \u001b[39m=\u001b[39m strategy[player](nim)\n\u001b[1;32m---> 10\u001b[0m     nim\u001b[39m.\u001b[39;49mnimming(ply)\n\u001b[0;32m     11\u001b[0m     logging\u001b[39m.\u001b[39mdebug(\u001b[39mf\u001b[39m\u001b[39m\"\u001b[39m\u001b[39mstatus: After player \u001b[39m\u001b[39m{\u001b[39;00mplayer\u001b[39m}\u001b[39;00m\u001b[39m -> \u001b[39m\u001b[39m{\u001b[39;00mnim\u001b[39m}\u001b[39;00m\u001b[39m\"\u001b[39m)\n\u001b[0;32m     12\u001b[0m     player \u001b[39m=\u001b[39m \u001b[39m1\u001b[39m \u001b[39m-\u001b[39m player\n",
      "Cell \u001b[1;32mIn [4], line 21\u001b[0m, in \u001b[0;36mNim.nimming\u001b[1;34m(self, ply)\u001b[0m\n\u001b[0;32m     20\u001b[0m \u001b[39mdef\u001b[39;00m \u001b[39mnimming\u001b[39m(\u001b[39mself\u001b[39m, ply: Nimply) \u001b[39m-\u001b[39m\u001b[39m>\u001b[39m \u001b[39mNone\u001b[39;00m:\n\u001b[1;32m---> 21\u001b[0m     row, num_objects \u001b[39m=\u001b[39m ply\n\u001b[0;32m     22\u001b[0m     \u001b[39massert\u001b[39;00m \u001b[39mself\u001b[39m\u001b[39m.\u001b[39m_rows[row] \u001b[39m>\u001b[39m\u001b[39m=\u001b[39m num_objects\n\u001b[0;32m     23\u001b[0m     \u001b[39massert\u001b[39;00m \u001b[39mself\u001b[39m\u001b[39m.\u001b[39m_k \u001b[39mis\u001b[39;00m \u001b[39mNone\u001b[39;00m \u001b[39mor\u001b[39;00m num_objects \u001b[39m<\u001b[39m\u001b[39m=\u001b[39m \u001b[39mself\u001b[39m\u001b[39m.\u001b[39m_k\n",
      "\u001b[1;31mTypeError\u001b[0m: cannot unpack non-iterable function object"
     ]
    }
   ],
   "source": [
    "logging.getLogger().setLevel(logging.DEBUG)\n",
    "\n",
    "strategy = (count_rows_and_choose, pick_min_from_highest)\n",
    "\n",
    "nim = Nim(5)\n",
    "logging.debug(f\"status: Initial board  -> {nim}\")\n",
    "player = 0\n",
    "while nim:\n",
    "    ply = strategy[player](nim)\n",
    "    nim.nimming(ply)\n",
    "    logging.debug(f\"status: After player {player} -> {nim}\")\n",
    "    player = 1 - player\n",
    "winner = 1 - player\n",
    "logging.info(f\"status: Player {winner} won!\")"
   ]
  }
 ],
 "metadata": {
  "kernelspec": {
   "display_name": "Python 3.10.7 64-bit",
   "language": "python",
   "name": "python3"
  },
  "language_info": {
   "codemirror_mode": {
    "name": "ipython",
    "version": 3
   },
   "file_extension": ".py",
   "mimetype": "text/x-python",
   "name": "python",
   "nbconvert_exporter": "python",
   "pygments_lexer": "ipython3",
   "version": "3.10.7"
  },
  "vscode": {
   "interpreter": {
    "hash": "385957ba4a504106e89afc93f22f38633e2124f079bb970f9afb051518064e80"
   }
  }
 },
 "nbformat": 4,
 "nbformat_minor": 2
}
