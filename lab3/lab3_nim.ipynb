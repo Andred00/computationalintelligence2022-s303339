{
 "cells": [
  {
   "cell_type": "markdown",
   "metadata": {
    "pycharm": {
     "name": "#%% md\n"
    }
   },
   "source": [
    "Copyright **`(c)`** 2022 Giovanni Squillero `<squillero@polito.it>`  \n",
    "[`https://github.com/squillero/computational-intelligence`](https://github.com/squillero/computational-intelligence)  \n",
    "Free for personal or classroom use; see [`LICENSE.md`](https://github.com/squillero/computational-intelligence/blob/master/LICENSE.md) for details.  \n"
   ]
  },
  {
   "cell_type": "markdown",
   "metadata": {
    "pycharm": {
     "name": "#%%\n"
    }
   },
   "source": [
    "# Lab 3: Policy Search\n",
    "\n",
    "## Task\n",
    "\n",
    "Write agents able to play [*Nim*](https://en.wikipedia.org/wiki/Nim), with an arbitrary number of rows and an upper bound $k$ on the number of objects that can be removed in a turn (a.k.a., *subtraction game*).\n",
    "\n",
    "The player **taking the last object wins**.\n",
    "\n",
    "* Task3.1: An agent using fixed rules based on *nim-sum* (i.e., an *expert system*)\n",
    "* Task3.2: An agent using evolved rules\n",
    "* Task3.3: An agent using minmax\n",
    "* Task3.4: An agent using reinforcement learning\n",
    "\n",
    "## Instructions\n",
    "\n",
    "* Create the directory `lab3` inside the course repo \n",
    "* Put a `README.md` and your solution (all the files, code and auxiliary data if needed)\n",
    "\n",
    "## Notes\n",
    "\n",
    "* Working in group is not only allowed, but recommended (see: [Ubuntu](https://en.wikipedia.org/wiki/Ubuntu_philosophy) and [Cooperative Learning](https://files.eric.ed.gov/fulltext/EJ1096789.pdf)). Collaborations must be explicitly declared in the `README.md`.\n",
    "* [Yanking](https://www.emacswiki.org/emacs/KillingAndYanking) from the internet is allowed, but sources must be explicitly declared in the `README.md`.\n",
    "\n",
    "## Deadlines ([AoE](https://en.wikipedia.org/wiki/Anywhere_on_Earth))\n",
    "\n",
    "* Sunday, December 4th for Task3.1 and Task3.2\n",
    "* Sunday, December 11th for Task3.3 and Task3.4\n",
    "* Sunday, December 18th for all reviews"
   ]
  },
  {
   "cell_type": "code",
   "execution_count": 647,
   "metadata": {},
   "outputs": [],
   "source": [
    "import logging\n",
    "from collections import namedtuple\n",
    "import random\n",
    "from typing import Callable"
   ]
  },
  {
   "cell_type": "markdown",
   "metadata": {},
   "source": [
    "## The *Nim* and *Nimply* classes"
   ]
  },
  {
   "cell_type": "code",
   "execution_count": 648,
   "metadata": {},
   "outputs": [],
   "source": [
    "Nimply = namedtuple(\"Nimply\", \"row, num_objects\")"
   ]
  },
  {
   "cell_type": "code",
   "execution_count": 649,
   "metadata": {},
   "outputs": [],
   "source": [
    "class Nim:\n",
    "    def __init__(self, num_rows: int, k: int = None) -> None:\n",
    "        self._rows = [i * 2 + 1 for i in range(num_rows)]\n",
    "        self._k = k\n",
    "\n",
    "    def __bool__(self):\n",
    "        return sum(self._rows) > 0\n",
    "\n",
    "    def __str__(self):\n",
    "        return \"<\" + \" \".join(str(_) for _ in self._rows) + \">\"\n",
    "\n",
    "    @property\n",
    "    def rows(self) -> tuple:\n",
    "        return tuple(self._rows)\n",
    "\n",
    "    @property\n",
    "    def k(self) -> int:\n",
    "        return self._k\n",
    "\n",
    "    def nimming(self, ply: Nimply) -> None:\n",
    "        row, num_objects = ply\n",
    "        assert self._rows[row] >= num_objects\n",
    "        assert self._k is None or num_objects <= self._k\n",
    "        self._rows[row] -= num_objects"
   ]
  },
  {
   "cell_type": "markdown",
   "metadata": {},
   "source": [
    "## Task 3.1 - Fixed rules\n"
   ]
  },
  {
   "cell_type": "code",
   "execution_count": 650,
   "metadata": {},
   "outputs": [],
   "source": [
    "def pure_random(state: Nim) -> Nimply:\n",
    "    row = random.choice([r for r, c in enumerate(state.rows) if c > 0])\n",
    "    num_objects = random.randint(1, state.rows[row])\n",
    "    return Nimply(row, num_objects)"
   ]
  },
  {
   "cell_type": "markdown",
   "metadata": {},
   "source": [
    "## My strategies"
   ]
  },
  {
   "cell_type": "code",
   "execution_count": 651,
   "metadata": {},
   "outputs": [],
   "source": [
    "def active_rows_number(state: Nim) -> int: \n",
    "    return sum(o > 0 for o in state.rows)\n",
    "\n",
    "def pick_max_from_highest(state: Nim) -> Nimply:\n",
    "    \"\"\"Pick always the maximum possible number of the highest row\"\"\"\n",
    "    possible_moves = [(r, o) for r, c in enumerate(state.rows) for o in range(1, c + 1)]\n",
    "    return Nimply(*max(possible_moves, key=lambda m: (m[0], m[1])))\n",
    "\n",
    "def pick_min_from_highest(state: Nim) -> Nimply:\n",
    "    \"\"\"Pick always the minimum possible number of the lowest row\"\"\"\n",
    "    possible_moves = [(r, o) for r, c in enumerate(state.rows) for o in range(1, c + 1)]\n",
    "    return Nimply(*max(possible_moves, key=lambda m: (m[0], -m[1])))\n",
    "\n",
    "def count_rows_and_choose(state: Nim) -> Nimply:\n",
    "    rows = active_rows_number(state)\n",
    "    if rows % 2 == 0:\n",
    "        return pick_min_from_highest(state)\n",
    "    else:\n",
    "        return pick_max_from_highest(state)\n",
    "\n",
    "def pick_odd_number_of_elements(state: Nim) -> Nimply:\n",
    "    row = random.choice([r for r, c in enumerate(state.rows) if c > 0])\n",
    "    ns = [n for n in range(1, state.rows[row]+1) if n%2!=0]\n",
    "    num_objects = random.choice(ns)\n",
    "    return Nimply(row, num_objects)\n",
    "\n",
    "def pick_even_number_of_elements(state: Nim) -> Nimply:\n",
    "    row = random.choice([r for r, c in enumerate(state.rows) if c > 0])\n",
    "    if state.rows[row] == 1:\n",
    "        return Nimply(row, 1)\n",
    "    ns = [n for n in range(1, state.rows[row]+1) if n%2==0]\n",
    "    num_objects = random.choice(ns)\n",
    "    return Nimply(row, num_objects)"
   ]
  },
  {
   "cell_type": "code",
   "execution_count": 652,
   "metadata": {},
   "outputs": [],
   "source": [
    "NUM_MATCHES = 100\n",
    "NIM_SIZE = 11\n",
    "\n",
    "def evaluate(strategy: Callable) -> float:\n",
    "    opponent = (strategy, pure_random)\n",
    "    won = 0\n",
    "\n",
    "    for m in range(NUM_MATCHES):\n",
    "        nim = Nim(NIM_SIZE)\n",
    "        player = 0\n",
    "        while nim:\n",
    "            ply = opponent[player](nim)\n",
    "            nim.nimming(ply)\n",
    "            player = 1 - player\n",
    "        if player == 1:\n",
    "            won += 1\n",
    "    return won / NUM_MATCHES"
   ]
  },
  {
   "cell_type": "code",
   "execution_count": 653,
   "metadata": {},
   "outputs": [
    {
     "data": {
      "text/plain": [
       "0.6"
      ]
     },
     "execution_count": 653,
     "metadata": {},
     "output_type": "execute_result"
    }
   ],
   "source": [
    "evaluate(pick_max_from_highest)"
   ]
  },
  {
   "cell_type": "code",
   "execution_count": 654,
   "metadata": {},
   "outputs": [
    {
     "data": {
      "text/plain": [
       "0.41"
      ]
     },
     "execution_count": 654,
     "metadata": {},
     "output_type": "execute_result"
    }
   ],
   "source": [
    "evaluate(pick_min_from_highest)"
   ]
  },
  {
   "cell_type": "code",
   "execution_count": 655,
   "metadata": {},
   "outputs": [
    {
     "data": {
      "text/plain": [
       "0.41"
      ]
     },
     "execution_count": 655,
     "metadata": {},
     "output_type": "execute_result"
    }
   ],
   "source": [
    "evaluate(pick_odd_number_of_elements)"
   ]
  },
  {
   "cell_type": "code",
   "execution_count": 656,
   "metadata": {},
   "outputs": [
    {
     "data": {
      "text/plain": [
       "0.65"
      ]
     },
     "execution_count": 656,
     "metadata": {},
     "output_type": "execute_result"
    }
   ],
   "source": [
    "evaluate(pick_even_number_of_elements)"
   ]
  },
  {
   "cell_type": "code",
   "execution_count": 657,
   "metadata": {},
   "outputs": [
    {
     "data": {
      "text/plain": [
       "0.88"
      ]
     },
     "execution_count": 657,
     "metadata": {},
     "output_type": "execute_result"
    }
   ],
   "source": [
    "evaluate(count_rows_and_choose)"
   ]
  },
  {
   "cell_type": "markdown",
   "metadata": {},
   "source": [
    "## Task 3.2 - Evolving agents"
   ]
  },
  {
   "cell_type": "code",
   "execution_count": 658,
   "metadata": {},
   "outputs": [],
   "source": [
    "def make_my_first_strategy(genome: dict) -> Callable:\n",
    "    def evolvable(state: Nim) -> Nimply:\n",
    "\n",
    "        if random.random() < genome[\"p\"]:\n",
    "            ply = count_rows_and_choose(state)\n",
    "        else:\n",
    "            ply = pure_random(state)\n",
    "        return ply\n",
    "\n",
    "    return evolvable"
   ]
  },
  {
   "cell_type": "code",
   "execution_count": 659,
   "metadata": {},
   "outputs": [],
   "source": [
    "def make_my_second_strategy(genome: dict) -> Callable:\n",
    "    def evolvable(state: Nim) -> Nimply:\n",
    "\n",
    "        if random.random() < genome[\"p\"]:\n",
    "            ply = pick_odd_number_of_elements(state)\n",
    "        else:\n",
    "            ply = pick_even_number_of_elements(state)\n",
    "        return ply\n",
    "\n",
    "    return evolvable"
   ]
  },
  {
   "cell_type": "code",
   "execution_count": 660,
   "metadata": {},
   "outputs": [],
   "source": [
    "def make_my_third_strategy(genome: dict) -> Callable:\n",
    "    def evolvable(state: Nim) -> Nimply:\n",
    "            \n",
    "        if random.random() < genome[\"p\"]:\n",
    "            return pick_min_from_highest(state)\n",
    "        else:\n",
    "            return pick_max_from_highest(state)\n",
    "    return evolvable"
   ]
  },
  {
   "cell_type": "markdown",
   "metadata": {},
   "source": [
    "# Try to evolve\n",
    "## Setting parameters"
   ]
  },
  {
   "cell_type": "code",
   "execution_count": 661,
   "metadata": {},
   "outputs": [],
   "source": [
    "Individual = namedtuple(\"Individual\",[\"genome\", \"fitness\"])\n",
    "POPULATION_SIZE = 100\n",
    "NUM_GENERATIONS = 101\n",
    "OFFSPRING_SIZE = 30\n",
    "MUT_RATE = 0.5\n",
    "\n",
    "def compute_fitness(genome, strategy):\n",
    "    return evaluate(strategy(genome))\n",
    "\n",
    "def tournament(population, tournament_size=2): \n",
    "    return max(random.choices(population, k=tournament_size), key=lambda i: i.fitness) \n",
    "\n",
    "def mutation(g):\n",
    "    if random.random() < 0.5:\n",
    "        g_mut = {\"p\": random.random()}\n",
    "    else:\n",
    "        g_mut = {\"p\": (g[\"p\"]+0.1)%1}\n",
    "    return g_mut\n",
    "\n",
    "def crossover(g1, g2):\n",
    "    p1 = g1[\"p\"]\n",
    "    p2 = g2[\"p\"]\n",
    "    p_cross = (p1+p2)/2\n",
    "    g_cross = {\"p\": p_cross}\n",
    "    return g_cross   "
   ]
  },
  {
   "cell_type": "markdown",
   "metadata": {},
   "source": [
    "## Evolution"
   ]
  },
  {
   "cell_type": "code",
   "execution_count": 662,
   "metadata": {},
   "outputs": [],
   "source": [
    "def my_genetic_algorithm(population, strategy):\n",
    "    for generation in range(NUM_GENERATIONS):\n",
    "        offspring = list()\n",
    "        for i in range(OFFSPRING_SIZE):\n",
    "            if random.random() < MUT_RATE:\n",
    "                p = tournament(population)\n",
    "                o = mutation(p.genome)\n",
    "            else:\n",
    "                p1 = tournament(population)                 # promising genome 1\n",
    "                p2 = tournament(population)                 # promising genome 2\n",
    "                o = crossover(p1.genome, p2.genome)\n",
    "            f = compute_fitness(o, strategy)\n",
    "            offspring.append(Individual(o,f))\n",
    "\n",
    "        population += offspring\n",
    "        population = sorted(population, key = lambda i: i.fitness, reverse=True)[:POPULATION_SIZE]\n",
    "\n",
    "        best_so_far = population[0]\n",
    "        if(generation % 10 == 0):\n",
    "            print(f\"GEN #{generation}\\t\\tGENOME: {best_so_far.genome}\\tFITNESS: {best_so_far.fitness}\")"
   ]
  },
  {
   "cell_type": "code",
   "execution_count": 663,
   "metadata": {},
   "outputs": [],
   "source": [
    "def evolution(strategy):\n",
    "    population = list()\n",
    "    for _ in range(POPULATION_SIZE):\n",
    "        p = random.random()\n",
    "        genome = {\"p\": p}\n",
    "        population.append(Individual(genome, compute_fitness(genome, strategy)))\n",
    "\n",
    "    my_genetic_algorithm(population, strategy)"
   ]
  },
  {
   "cell_type": "code",
   "execution_count": 664,
   "metadata": {},
   "outputs": [
    {
     "name": "stdout",
     "output_type": "stream",
     "text": [
      "GEN #0\t\tGENOME: {'p': 0.9333501176045169}\tFITNESS: 0.89\n",
      "GEN #10\t\tGENOME: {'p': 0.9909345745159256}\tFITNESS: 0.93\n",
      "GEN #20\t\tGENOME: {'p': 0.9909345745159256}\tFITNESS: 0.93\n",
      "GEN #30\t\tGENOME: {'p': 0.9909345745159256}\tFITNESS: 0.93\n",
      "GEN #40\t\tGENOME: {'p': 0.9909345745159256}\tFITNESS: 0.93\n",
      "GEN #50\t\tGENOME: {'p': 0.9909345745159256}\tFITNESS: 0.93\n",
      "GEN #60\t\tGENOME: {'p': 0.9988912130583779}\tFITNESS: 0.95\n",
      "GEN #70\t\tGENOME: {'p': 0.9988912130583779}\tFITNESS: 0.95\n",
      "GEN #80\t\tGENOME: {'p': 0.9988912130583779}\tFITNESS: 0.95\n",
      "GEN #90\t\tGENOME: {'p': 0.9988912130583779}\tFITNESS: 0.95\n",
      "GEN #100\t\tGENOME: {'p': 0.9988912130583779}\tFITNESS: 0.95\n"
     ]
    }
   ],
   "source": [
    "evolution(make_my_first_strategy)"
   ]
  },
  {
   "cell_type": "code",
   "execution_count": 667,
   "metadata": {},
   "outputs": [
    {
     "name": "stdout",
     "output_type": "stream",
     "text": [
      "GEN #0\t\tGENOME: {'p': 0.15498759917761262}\tFITNESS: 0.63\n",
      "GEN #10\t\tGENOME: {'p': 0.26342618705033827}\tFITNESS: 0.66\n",
      "GEN #20\t\tGENOME: {'p': 0.26342618705033827}\tFITNESS: 0.66\n",
      "GEN #30\t\tGENOME: {'p': 0.3994988135854459}\tFITNESS: 0.68\n",
      "GEN #40\t\tGENOME: {'p': 0.3994988135854459}\tFITNESS: 0.68\n",
      "GEN #50\t\tGENOME: {'p': 0.3994988135854459}\tFITNESS: 0.68\n",
      "GEN #60\t\tGENOME: {'p': 0.3994988135854459}\tFITNESS: 0.68\n",
      "GEN #70\t\tGENOME: {'p': 0.3994988135854459}\tFITNESS: 0.68\n",
      "GEN #80\t\tGENOME: {'p': 0.3994988135854459}\tFITNESS: 0.68\n",
      "GEN #90\t\tGENOME: {'p': 0.3994988135854459}\tFITNESS: 0.68\n",
      "GEN #100\t\tGENOME: {'p': 0.3994988135854459}\tFITNESS: 0.68\n"
     ]
    }
   ],
   "source": [
    "evolution(make_my_second_strategy)"
   ]
  },
  {
   "cell_type": "code",
   "execution_count": 666,
   "metadata": {},
   "outputs": [
    {
     "name": "stdout",
     "output_type": "stream",
     "text": [
      "GEN #0\t\tGENOME: {'p': 0.25456029655297585}\tFITNESS: 0.7\n",
      "GEN #10\t\tGENOME: {'p': 0.1242210242074703}\tFITNESS: 0.73\n",
      "GEN #20\t\tGENOME: {'p': 0.24297626293277547}\tFITNESS: 0.74\n",
      "GEN #30\t\tGENOME: {'p': 0.24297626293277547}\tFITNESS: 0.74\n",
      "GEN #40\t\tGENOME: {'p': 0.24297626293277547}\tFITNESS: 0.74\n",
      "GEN #50\t\tGENOME: {'p': 0.10956652901021742}\tFITNESS: 0.76\n",
      "GEN #60\t\tGENOME: {'p': 0.10956652901021742}\tFITNESS: 0.76\n",
      "GEN #70\t\tGENOME: {'p': 0.10956652901021742}\tFITNESS: 0.76\n",
      "GEN #80\t\tGENOME: {'p': 0.10956652901021742}\tFITNESS: 0.76\n",
      "GEN #90\t\tGENOME: {'p': 0.10956652901021742}\tFITNESS: 0.76\n",
      "GEN #100\t\tGENOME: {'p': 0.10956652901021742}\tFITNESS: 0.76\n"
     ]
    }
   ],
   "source": [
    "evolution(make_my_third_strategy)"
   ]
  }
 ],
 "metadata": {
  "kernelspec": {
   "display_name": "Python 3.10.7 64-bit",
   "language": "python",
   "name": "python3"
  },
  "language_info": {
   "codemirror_mode": {
    "name": "ipython",
    "version": 3
   },
   "file_extension": ".py",
   "mimetype": "text/x-python",
   "name": "python",
   "nbconvert_exporter": "python",
   "pygments_lexer": "ipython3",
   "version": "3.10.7"
  },
  "vscode": {
   "interpreter": {
    "hash": "385957ba4a504106e89afc93f22f38633e2124f079bb970f9afb051518064e80"
   }
  }
 },
 "nbformat": 4,
 "nbformat_minor": 2
}
